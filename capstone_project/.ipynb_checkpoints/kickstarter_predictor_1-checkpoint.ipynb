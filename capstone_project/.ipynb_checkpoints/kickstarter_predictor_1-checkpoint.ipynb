{
 "cells": [
  {
   "cell_type": "markdown",
   "metadata": {
    "collapsed": true
   },
   "source": [
    "# Capstone Project: Kickstarter Predictor"
   ]
  },
  {
   "cell_type": "markdown",
   "metadata": {},
   "source": [
    "## Introduction"
   ]
  },
  {
   "cell_type": "markdown",
   "metadata": {},
   "source": [
    "Kickstarter is a community driven funding platform commonly known as crowdfunding. It's a pool of creative, innovative projects seeking for its way to make it life. These has become main sources of initial funding for some of the small bizs and startups who wants to launch their innovative baby to world. Consisting of millions of creators, they have the opportunity to directly connect with the public in the first go and get direct response. \n",
    "\n",
    "Their mission being bring creative projects to life and they are true to that. Let's look some of the stats as listed on their site. Having more than 3Billion dollars pledged to projects. Approx 130,000 already successfully funded with 4 Million backers and 40 Million repeated backers. This comes to as a big motivator for getting fund for the projects. \n",
    "\n",
    "However, the way Kickstarter works its on all or nothing basis. Having a realistic goal for a project becomes important. If a project doesn't meet the goal then the owner gets nothing. \n",
    "\n",
    "Example: if goal is of 1000 dollars, and backers funding till 999 dollars won't be a success. It has to be met exact and above. So it becomes important to understand what are the factors that will make the possibility of getting the funding much higher. \n",
    "\n",
    "In this project, I tried to study what all kind of projects can get funding. Predicting using available data, whether or not project will be successfully funded. \n",
    "\n",
    "Data source - Kaggle\n"
   ]
  },
  {
   "cell_type": "markdown",
   "metadata": {},
   "source": [
    "## Problem Statement - whether or not a project will be successfully funded?"
   ]
  },
  {
   "cell_type": "markdown",
   "metadata": {},
   "source": [
    "In order to solve this problem below are the few main steps I followed:\n",
    "\n",
    "1. Data Exploration\n",
    "2. Feature Engineering\n",
    "3. Predictive Modeling Algorithm\n",
    "    4. Result Analysis\n",
    "5. Text Analysis\n",
    "6. Conclusion"
   ]
  },
  {
   "cell_type": "markdown",
   "metadata": {},
   "source": [
    "## Data Exploration"
   ]
  },
  {
   "cell_type": "markdown",
   "metadata": {},
   "source": [
    "#### Imports"
   ]
  },
  {
   "cell_type": "code",
   "execution_count": 3,
   "metadata": {
    "collapsed": true
   },
   "outputs": [],
   "source": [
    "import pandas as pd\n",
    "import csv\n",
    "import matplotlib.pyplot as plt\n",
    "from IPython.display import display\n",
    "%matplotlib inline\n",
    "from sklearn.cross_validation import train_test_split\n",
    "from sklearn.metrics import accuracy_score\n",
    "from sklearn.metrics import confusion_matrix\n",
    "from sklearn.metrics import classification_report\n",
    "import numpy as np\n",
    "import datetime\n",
    "import calendar\n",
    "import seaborn as sns\n",
    "sns.set(style=\"whitegrid\", color_codes=True)\n",
    "np.random.seed(sum(map(ord, \"categorical\")))"
   ]
  },
  {
   "cell_type": "markdown",
   "metadata": {},
   "source": [
    "#### Read the dataset"
   ]
  },
  {
   "cell_type": "markdown",
   "metadata": {},
   "source": [
    "###### Dataset params\n",
    "\n",
    "1. project_id: unique id of project\n",
    "2. name: name of the project\n",
    "3. desc: description of project\n",
    "4. goal: the goal (amount) required for the project\n",
    "5. keywords: keywords which describe project\n",
    "6. disable communication: whether the project authors has disabled communication option with people donating to the project\n",
    "7. country: country of project author\n",
    "8. currency: currency in which goal (amount) is required\n",
    "9. deadline: till this date the goal must be achieved (in unix timeformat)\n",
    "10. state_changed_at: at this time the project status changed. Status could be successful, failed, suspended, cancelled etc. (in unix timeformat)\n",
    "11. created_at: at this time the project was posted on the website(in unix timeformat)\n",
    "12. launched_at: at this time the project went live on the website(in unix timeformat)\n",
    "13. backers_count: number of people who backed the project\n",
    "14. final_status: whether the project got successfully funded (target variable – 1,0)\n",
    "\n",
    "Dataset Source: https://www.kaggle.com/"
   ]
  },
  {
   "cell_type": "code",
   "execution_count": 4,
   "metadata": {
    "collapsed": false
   },
   "outputs": [
    {
     "data": {
      "text/html": [
       "<div>\n",
       "<table border=\"1\" class=\"dataframe\">\n",
       "  <thead>\n",
       "    <tr style=\"text-align: right;\">\n",
       "      <th></th>\n",
       "      <th>project_id</th>\n",
       "      <th>name</th>\n",
       "      <th>desc</th>\n",
       "      <th>goal</th>\n",
       "      <th>keywords</th>\n",
       "      <th>disable_communication</th>\n",
       "      <th>country</th>\n",
       "      <th>currency</th>\n",
       "      <th>deadline</th>\n",
       "      <th>state_changed_at</th>\n",
       "      <th>created_at</th>\n",
       "      <th>launched_at</th>\n",
       "      <th>backers_count</th>\n",
       "      <th>final_status</th>\n",
       "    </tr>\n",
       "  </thead>\n",
       "  <tbody>\n",
       "    <tr>\n",
       "      <th>0</th>\n",
       "      <td>kkst1451568084</td>\n",
       "      <td>drawing for dollars</td>\n",
       "      <td>I like drawing pictures. and then i color them...</td>\n",
       "      <td>20.0</td>\n",
       "      <td>drawing-for-dollars</td>\n",
       "      <td>False</td>\n",
       "      <td>US</td>\n",
       "      <td>USD</td>\n",
       "      <td>1241333999</td>\n",
       "      <td>1241334017</td>\n",
       "      <td>1240600507</td>\n",
       "      <td>1240602723</td>\n",
       "      <td>3</td>\n",
       "      <td>1</td>\n",
       "    </tr>\n",
       "    <tr>\n",
       "      <th>1</th>\n",
       "      <td>kkst1474482071</td>\n",
       "      <td>Sponsor Dereck Blackburn (Lostwars) Artist in ...</td>\n",
       "      <td>I, Dereck Blackburn will be taking upon an inc...</td>\n",
       "      <td>300.0</td>\n",
       "      <td>sponsor-dereck-blackburn-lostwars-artist-in-re...</td>\n",
       "      <td>False</td>\n",
       "      <td>US</td>\n",
       "      <td>USD</td>\n",
       "      <td>1242429000</td>\n",
       "      <td>1242432018</td>\n",
       "      <td>1240960224</td>\n",
       "      <td>1240975592</td>\n",
       "      <td>2</td>\n",
       "      <td>0</td>\n",
       "    </tr>\n",
       "    <tr>\n",
       "      <th>2</th>\n",
       "      <td>kkst183622197</td>\n",
       "      <td>Mr. Squiggles</td>\n",
       "      <td>So I saw darkpony's successfully funded drawin...</td>\n",
       "      <td>30.0</td>\n",
       "      <td>mr-squiggles</td>\n",
       "      <td>False</td>\n",
       "      <td>US</td>\n",
       "      <td>USD</td>\n",
       "      <td>1243027560</td>\n",
       "      <td>1243027818</td>\n",
       "      <td>1242163613</td>\n",
       "      <td>1242164398</td>\n",
       "      <td>0</td>\n",
       "      <td>0</td>\n",
       "    </tr>\n",
       "    <tr>\n",
       "      <th>3</th>\n",
       "      <td>kkst597742710</td>\n",
       "      <td>Help me write my second novel.</td>\n",
       "      <td>Do your part to help out starving artists and ...</td>\n",
       "      <td>500.0</td>\n",
       "      <td>help-me-write-my-second-novel</td>\n",
       "      <td>False</td>\n",
       "      <td>US</td>\n",
       "      <td>USD</td>\n",
       "      <td>1243555740</td>\n",
       "      <td>1243556121</td>\n",
       "      <td>1240963795</td>\n",
       "      <td>1240966730</td>\n",
       "      <td>18</td>\n",
       "      <td>1</td>\n",
       "    </tr>\n",
       "    <tr>\n",
       "      <th>4</th>\n",
       "      <td>kkst1913131122</td>\n",
       "      <td>Support casting my sculpture in bronze</td>\n",
       "      <td>I'm nearing completion on a sculpture, current...</td>\n",
       "      <td>2000.0</td>\n",
       "      <td>support-casting-my-sculpture-in-bronze</td>\n",
       "      <td>False</td>\n",
       "      <td>US</td>\n",
       "      <td>USD</td>\n",
       "      <td>1243769880</td>\n",
       "      <td>1243770317</td>\n",
       "      <td>1241177914</td>\n",
       "      <td>1241180541</td>\n",
       "      <td>1</td>\n",
       "      <td>0</td>\n",
       "    </tr>\n",
       "  </tbody>\n",
       "</table>\n",
       "</div>"
      ],
      "text/plain": [
       "       project_id                                               name  \\\n",
       "0  kkst1451568084                                drawing for dollars   \n",
       "1  kkst1474482071  Sponsor Dereck Blackburn (Lostwars) Artist in ...   \n",
       "2   kkst183622197                                      Mr. Squiggles   \n",
       "3   kkst597742710                     Help me write my second novel.   \n",
       "4  kkst1913131122             Support casting my sculpture in bronze   \n",
       "\n",
       "                                                desc    goal  \\\n",
       "0  I like drawing pictures. and then i color them...    20.0   \n",
       "1  I, Dereck Blackburn will be taking upon an inc...   300.0   \n",
       "2  So I saw darkpony's successfully funded drawin...    30.0   \n",
       "3  Do your part to help out starving artists and ...   500.0   \n",
       "4  I'm nearing completion on a sculpture, current...  2000.0   \n",
       "\n",
       "                                            keywords disable_communication  \\\n",
       "0                                drawing-for-dollars                 False   \n",
       "1  sponsor-dereck-blackburn-lostwars-artist-in-re...                 False   \n",
       "2                                       mr-squiggles                 False   \n",
       "3                      help-me-write-my-second-novel                 False   \n",
       "4             support-casting-my-sculpture-in-bronze                 False   \n",
       "\n",
       "  country currency    deadline  state_changed_at  created_at  launched_at  \\\n",
       "0      US      USD  1241333999        1241334017  1240600507   1240602723   \n",
       "1      US      USD  1242429000        1242432018  1240960224   1240975592   \n",
       "2      US      USD  1243027560        1243027818  1242163613   1242164398   \n",
       "3      US      USD  1243555740        1243556121  1240963795   1240966730   \n",
       "4      US      USD  1243769880        1243770317  1241177914   1241180541   \n",
       "\n",
       "   backers_count  final_status  \n",
       "0              3             1  \n",
       "1              2             0  \n",
       "2              0             0  \n",
       "3             18             1  \n",
       "4              1             0  "
      ]
     },
     "metadata": {},
     "output_type": "display_data"
    }
   ],
   "source": [
    "# Load the dataset\n",
    "in_file = 'train_new.csv'\n",
    "full_data = pd.read_csv(in_file)\n",
    "\n",
    "# Print the first few entries of the RMS Titanic data\n",
    "display(full_data.head())"
   ]
  },
  {
   "cell_type": "markdown",
   "metadata": {},
   "source": [
    "#### Cleanup & Transformations"
   ]
  },
  {
   "cell_type": "code",
   "execution_count": 5,
   "metadata": {
    "collapsed": false
   },
   "outputs": [
    {
     "data": {
      "text/html": [
       "<div>\n",
       "<table border=\"1\" class=\"dataframe\">\n",
       "  <thead>\n",
       "    <tr style=\"text-align: right;\">\n",
       "      <th></th>\n",
       "      <th>project_id</th>\n",
       "      <th>name</th>\n",
       "      <th>desc</th>\n",
       "      <th>goal</th>\n",
       "      <th>keywords</th>\n",
       "      <th>disable_communication</th>\n",
       "      <th>country</th>\n",
       "      <th>currency</th>\n",
       "      <th>deadline</th>\n",
       "      <th>state_changed_at</th>\n",
       "      <th>created_at</th>\n",
       "      <th>launched_at</th>\n",
       "      <th>backers_count</th>\n",
       "      <th>final_status</th>\n",
       "    </tr>\n",
       "  </thead>\n",
       "  <tbody>\n",
       "    <tr>\n",
       "      <th>0</th>\n",
       "      <td>kkst1451568084</td>\n",
       "      <td>drawing for dollars</td>\n",
       "      <td>I like drawing pictures. and then i color them...</td>\n",
       "      <td>20.0</td>\n",
       "      <td>drawing-for-dollars</td>\n",
       "      <td>False</td>\n",
       "      <td>US</td>\n",
       "      <td>USD</td>\n",
       "      <td>2009-05-02 23:59:59</td>\n",
       "      <td>2009-05-03 00:00:17</td>\n",
       "      <td>2009-04-24 12:15:07</td>\n",
       "      <td>2009-04-24 12:52:03</td>\n",
       "      <td>3</td>\n",
       "      <td>1</td>\n",
       "    </tr>\n",
       "    <tr>\n",
       "      <th>1</th>\n",
       "      <td>kkst1474482071</td>\n",
       "      <td>Sponsor Dereck Blackburn (Lostwars) Artist in ...</td>\n",
       "      <td>I, Dereck Blackburn will be taking upon an inc...</td>\n",
       "      <td>300.0</td>\n",
       "      <td>sponsor-dereck-blackburn-lostwars-artist-in-re...</td>\n",
       "      <td>False</td>\n",
       "      <td>US</td>\n",
       "      <td>USD</td>\n",
       "      <td>2009-05-15 16:10:00</td>\n",
       "      <td>2009-05-15 17:00:18</td>\n",
       "      <td>2009-04-28 16:10:24</td>\n",
       "      <td>2009-04-28 20:26:32</td>\n",
       "      <td>2</td>\n",
       "      <td>0</td>\n",
       "    </tr>\n",
       "    <tr>\n",
       "      <th>2</th>\n",
       "      <td>kkst183622197</td>\n",
       "      <td>Mr. Squiggles</td>\n",
       "      <td>So I saw darkpony's successfully funded drawin...</td>\n",
       "      <td>30.0</td>\n",
       "      <td>mr-squiggles</td>\n",
       "      <td>False</td>\n",
       "      <td>US</td>\n",
       "      <td>USD</td>\n",
       "      <td>2009-05-22 14:26:00</td>\n",
       "      <td>2009-05-22 14:30:18</td>\n",
       "      <td>2009-05-12 14:26:53</td>\n",
       "      <td>2009-05-12 14:39:58</td>\n",
       "      <td>0</td>\n",
       "      <td>0</td>\n",
       "    </tr>\n",
       "    <tr>\n",
       "      <th>3</th>\n",
       "      <td>kkst597742710</td>\n",
       "      <td>Help me write my second novel.</td>\n",
       "      <td>Do your part to help out starving artists and ...</td>\n",
       "      <td>500.0</td>\n",
       "      <td>help-me-write-my-second-novel</td>\n",
       "      <td>False</td>\n",
       "      <td>US</td>\n",
       "      <td>USD</td>\n",
       "      <td>2009-05-28 17:09:00</td>\n",
       "      <td>2009-05-28 17:15:21</td>\n",
       "      <td>2009-04-28 17:09:55</td>\n",
       "      <td>2009-04-28 17:58:50</td>\n",
       "      <td>18</td>\n",
       "      <td>1</td>\n",
       "    </tr>\n",
       "    <tr>\n",
       "      <th>4</th>\n",
       "      <td>kkst1913131122</td>\n",
       "      <td>Support casting my sculpture in bronze</td>\n",
       "      <td>I'm nearing completion on a sculpture, current...</td>\n",
       "      <td>2000.0</td>\n",
       "      <td>support-casting-my-sculpture-in-bronze</td>\n",
       "      <td>False</td>\n",
       "      <td>US</td>\n",
       "      <td>USD</td>\n",
       "      <td>2009-05-31 04:38:00</td>\n",
       "      <td>2009-05-31 04:45:17</td>\n",
       "      <td>2009-05-01 04:38:34</td>\n",
       "      <td>2009-05-01 05:22:21</td>\n",
       "      <td>1</td>\n",
       "      <td>0</td>\n",
       "    </tr>\n",
       "  </tbody>\n",
       "</table>\n",
       "</div>"
      ],
      "text/plain": [
       "       project_id                                               name  \\\n",
       "0  kkst1451568084                                drawing for dollars   \n",
       "1  kkst1474482071  Sponsor Dereck Blackburn (Lostwars) Artist in ...   \n",
       "2   kkst183622197                                      Mr. Squiggles   \n",
       "3   kkst597742710                     Help me write my second novel.   \n",
       "4  kkst1913131122             Support casting my sculpture in bronze   \n",
       "\n",
       "                                                desc    goal  \\\n",
       "0  I like drawing pictures. and then i color them...    20.0   \n",
       "1  I, Dereck Blackburn will be taking upon an inc...   300.0   \n",
       "2  So I saw darkpony's successfully funded drawin...    30.0   \n",
       "3  Do your part to help out starving artists and ...   500.0   \n",
       "4  I'm nearing completion on a sculpture, current...  2000.0   \n",
       "\n",
       "                                            keywords disable_communication  \\\n",
       "0                                drawing-for-dollars                 False   \n",
       "1  sponsor-dereck-blackburn-lostwars-artist-in-re...                 False   \n",
       "2                                       mr-squiggles                 False   \n",
       "3                      help-me-write-my-second-novel                 False   \n",
       "4             support-casting-my-sculpture-in-bronze                 False   \n",
       "\n",
       "  country currency             deadline     state_changed_at  \\\n",
       "0      US      USD  2009-05-02 23:59:59  2009-05-03 00:00:17   \n",
       "1      US      USD  2009-05-15 16:10:00  2009-05-15 17:00:18   \n",
       "2      US      USD  2009-05-22 14:26:00  2009-05-22 14:30:18   \n",
       "3      US      USD  2009-05-28 17:09:00  2009-05-28 17:15:21   \n",
       "4      US      USD  2009-05-31 04:38:00  2009-05-31 04:45:17   \n",
       "\n",
       "            created_at          launched_at  backers_count  final_status  \n",
       "0  2009-04-24 12:15:07  2009-04-24 12:52:03              3             1  \n",
       "1  2009-04-28 16:10:24  2009-04-28 20:26:32              2             0  \n",
       "2  2009-05-12 14:26:53  2009-05-12 14:39:58              0             0  \n",
       "3  2009-04-28 17:09:55  2009-04-28 17:58:50             18             1  \n",
       "4  2009-05-01 04:38:34  2009-05-01 05:22:21              1             0  "
      ]
     },
     "execution_count": 5,
     "metadata": {},
     "output_type": "execute_result"
    }
   ],
   "source": [
    "## First changing all unix timestamp formats to readable timestamp formats\n",
    "col_date=['state_changed_at','created_at','launched_at','deadline']\n",
    "\n",
    "for i in col_date:\n",
    "    full_data[i]=full_data[i].apply(lambda x: datetime.datetime.fromtimestamp(int(x)).strftime(\"%Y-%m-%d %H:%M:%S\"))\n",
    "\n",
    "## Second changing all NA with an space\n",
    "\n",
    "full_data['name'].fillna(\" \")\n",
    "full_data['desc'].fillna(\" \")\n",
    "\n",
    "full_data.head()"
   ]
  },
  {
   "cell_type": "markdown",
   "metadata": {},
   "source": [
    "#### Data Analysis"
   ]
  },
  {
   "cell_type": "markdown",
   "metadata": {},
   "source": [
    "##### Weekday Vs Weekend Trend:\n",
    "\n",
    "I wanted to analyze whether or not creating project during weekdays will be successful. And results are pretty interesting."
   ]
  },
  {
   "cell_type": "code",
   "execution_count": 6,
   "metadata": {
    "collapsed": true
   },
   "outputs": [],
   "source": [
    "## Function to get the day in the week\n",
    "def show_day_in_week(x):\n",
    "    \"\"\"\n",
    "    Return day of the week from the timestamp.\n",
    "    :param x: created_at timestamp\n",
    "    :return: day\n",
    "    \"\"\"\n",
    "    return calendar.day_name[datetime.datetime.strptime(x,'%Y-%m-%d %H:%M:%S').weekday()]\n",
    "\n",
    "## day of the week when project was created\n",
    "df_created_dates = full_data['created_at'].apply(lambda x: show_day_in_week(x) )\n",
    "#print df_created_dates\n",
    "\n",
    "df_processed = full_data.copy()\n",
    "df_processed['created_day_of_week'] = pd.Series(df_created_dates, index=df_processed.index)\n"
   ]
  },
  {
   "cell_type": "code",
   "execution_count": 7,
   "metadata": {
    "collapsed": false
   },
   "outputs": [
    {
     "data": {
      "text/html": [
       "<div>\n",
       "<table border=\"1\" class=\"dataframe\">\n",
       "  <thead>\n",
       "    <tr style=\"text-align: right;\">\n",
       "      <th></th>\n",
       "      <th>created_day_of_week</th>\n",
       "      <th>final_status</th>\n",
       "    </tr>\n",
       "  </thead>\n",
       "  <tbody>\n",
       "    <tr>\n",
       "      <th>0</th>\n",
       "      <td>Friday</td>\n",
       "      <td>4424</td>\n",
       "    </tr>\n",
       "    <tr>\n",
       "      <th>1</th>\n",
       "      <td>Monday</td>\n",
       "      <td>6027</td>\n",
       "    </tr>\n",
       "    <tr>\n",
       "      <th>2</th>\n",
       "      <td>Saturday</td>\n",
       "      <td>3261</td>\n",
       "    </tr>\n",
       "    <tr>\n",
       "      <th>3</th>\n",
       "      <td>Sunday</td>\n",
       "      <td>3706</td>\n",
       "    </tr>\n",
       "    <tr>\n",
       "      <th>4</th>\n",
       "      <td>Thursday</td>\n",
       "      <td>5318</td>\n",
       "    </tr>\n",
       "    <tr>\n",
       "      <th>5</th>\n",
       "      <td>Tuesday</td>\n",
       "      <td>6025</td>\n",
       "    </tr>\n",
       "    <tr>\n",
       "      <th>6</th>\n",
       "      <td>Wednesday</td>\n",
       "      <td>5800</td>\n",
       "    </tr>\n",
       "  </tbody>\n",
       "</table>\n",
       "</div>"
      ],
      "text/plain": [
       "  created_day_of_week  final_status\n",
       "0              Friday          4424\n",
       "1              Monday          6027\n",
       "2            Saturday          3261\n",
       "3              Sunday          3706\n",
       "4            Thursday          5318\n",
       "5             Tuesday          6025\n",
       "6           Wednesday          5800"
      ]
     },
     "execution_count": 7,
     "metadata": {},
     "output_type": "execute_result"
    }
   ],
   "source": [
    "days=['Sunday','Monday','Tuesday','Wednesday','Thrusday','Friday','Saturday']\n",
    "\n",
    "total_final_status_df= pd.DataFrame(df_processed.groupby(['created_day_of_week'], as_index=False)['final_status'].sum())\n",
    "total_final_status_df\n",
    "\n"
   ]
  },
  {
   "cell_type": "code",
   "execution_count": 8,
   "metadata": {
    "collapsed": false
   },
   "outputs": [
    {
     "data": {
      "image/png": "[encoded data removed]",
      "text/plain": [
       "<matplotlib.figure.Figure at 0x12066ca90>"
      ]
     },
     "metadata": {},
     "output_type": "display_data"
    }
   ],
   "source": [
    "sns.barplot(x=\"created_day_of_week\", y=\"final_status\", data=total_final_status_df);"
   ]
  },
  {
   "cell_type": "markdown",
   "metadata": {},
   "source": [
    "There is a clear indicator that most of the projects getting funded are launched during weekdays over weekend. Owners trying to post projects during weekdays could have getter probability getting their projects funded.\n"
   ]
  },
  {
   "cell_type": "markdown",
   "metadata": {},
   "source": [
    "##### Communication Trend:\n",
    "\n",
    "I wanted to analyze whether or not communication enable or disabled matters.\n",
    "\n"
   ]
  },
  {
   "cell_type": "code",
   "execution_count": 9,
   "metadata": {
    "collapsed": false
   },
   "outputs": [
    {
     "data": {
      "text/html": [
       "<div>\n",
       "<table border=\"1\" class=\"dataframe\">\n",
       "  <thead>\n",
       "    <tr style=\"text-align: right;\">\n",
       "      <th></th>\n",
       "      <th>disable_communication</th>\n",
       "      <th>final_status</th>\n",
       "    </tr>\n",
       "  </thead>\n",
       "  <tbody>\n",
       "    <tr>\n",
       "      <th>0</th>\n",
       "      <td>False</td>\n",
       "      <td>34561</td>\n",
       "    </tr>\n",
       "    <tr>\n",
       "      <th>1</th>\n",
       "      <td>True</td>\n",
       "      <td>0</td>\n",
       "    </tr>\n",
       "  </tbody>\n",
       "</table>\n",
       "</div>"
      ],
      "text/plain": [
       "  disable_communication  final_status\n",
       "0                 False         34561\n",
       "1                  True             0"
      ]
     },
     "execution_count": 9,
     "metadata": {},
     "output_type": "execute_result"
    }
   ],
   "source": [
    "disable_communication_results = df_processed.groupby(['disable_communication'], as_index=False)['final_status'].sum()\n",
    "## we can ignore this feature as non of the funded project has communication disabled.\n",
    "disable_communication_results"
   ]
  },
  {
   "cell_type": "code",
   "execution_count": 11,
   "metadata": {
    "collapsed": false
   },
   "outputs": [
    {
     "data": {
      "image/png": "[encoded data removed]",
      "text/plain": [
       "<matplotlib.figure.Figure at 0x11f335290>"
      ]
     },
     "metadata": {},
     "output_type": "display_data"
    }
   ],
   "source": [
    "sns.barplot(x=\"disable_communication\", y=\"final_status\", data=disable_communication_results);"
   ]
  },
  {
   "cell_type": "markdown",
   "metadata": {},
   "source": [
    "This indicates that when disable_communication is false, most of the projects gets the funding."
   ]
  },
  {
   "cell_type": "markdown",
   "metadata": {},
   "source": [
    "##### Country Wise Funded Projects Trend:\n",
    "\n",
    "I wanted to analyze country wise funded projects."
   ]
  },
  {
   "cell_type": "code",
   "execution_count": 10,
   "metadata": {
    "collapsed": false
   },
   "outputs": [
    {
     "data": {
      "text/html": [
       "<div>\n",
       "<table border=\"1\" class=\"dataframe\">\n",
       "  <thead>\n",
       "    <tr style=\"text-align: right;\">\n",
       "      <th></th>\n",
       "      <th>country</th>\n",
       "      <th>final_status</th>\n",
       "    </tr>\n",
       "  </thead>\n",
       "  <tbody>\n",
       "    <tr>\n",
       "      <th>0</th>\n",
       "      <td>AU</td>\n",
       "      <td>343</td>\n",
       "    </tr>\n",
       "    <tr>\n",
       "      <th>1</th>\n",
       "      <td>CA</td>\n",
       "      <td>837</td>\n",
       "    </tr>\n",
       "    <tr>\n",
       "      <th>2</th>\n",
       "      <td>DE</td>\n",
       "      <td>0</td>\n",
       "    </tr>\n",
       "    <tr>\n",
       "      <th>3</th>\n",
       "      <td>DK</td>\n",
       "      <td>44</td>\n",
       "    </tr>\n",
       "    <tr>\n",
       "      <th>4</th>\n",
       "      <td>GB</td>\n",
       "      <td>2510</td>\n",
       "    </tr>\n",
       "    <tr>\n",
       "      <th>5</th>\n",
       "      <td>IE</td>\n",
       "      <td>23</td>\n",
       "    </tr>\n",
       "    <tr>\n",
       "      <th>6</th>\n",
       "      <td>NL</td>\n",
       "      <td>88</td>\n",
       "    </tr>\n",
       "    <tr>\n",
       "      <th>7</th>\n",
       "      <td>NO</td>\n",
       "      <td>18</td>\n",
       "    </tr>\n",
       "    <tr>\n",
       "      <th>8</th>\n",
       "      <td>NZ</td>\n",
       "      <td>80</td>\n",
       "    </tr>\n",
       "    <tr>\n",
       "      <th>9</th>\n",
       "      <td>SE</td>\n",
       "      <td>45</td>\n",
       "    </tr>\n",
       "    <tr>\n",
       "      <th>10</th>\n",
       "      <td>US</td>\n",
       "      <td>30573</td>\n",
       "    </tr>\n",
       "  </tbody>\n",
       "</table>\n",
       "</div>"
      ],
      "text/plain": [
       "   country  final_status\n",
       "0       AU           343\n",
       "1       CA           837\n",
       "2       DE             0\n",
       "3       DK            44\n",
       "4       GB          2510\n",
       "5       IE            23\n",
       "6       NL            88\n",
       "7       NO            18\n",
       "8       NZ            80\n",
       "9       SE            45\n",
       "10      US         30573"
      ]
     },
     "execution_count": 10,
     "metadata": {},
     "output_type": "execute_result"
    }
   ],
   "source": [
    "country_results = df_processed.groupby(['country'], as_index=False)['final_status'].sum()\n",
    "country_results"
   ]
  },
  {
   "cell_type": "code",
   "execution_count": 12,
   "metadata": {
    "collapsed": false
   },
   "outputs": [
    {
     "data": {
      "image/png": "[encoded data removed]",
      "text/plain": [
       "<matplotlib.figure.Figure at 0x11f9fb690>"
      ]
     },
     "metadata": {},
     "output_type": "display_data"
    }
   ],
   "source": [
    "sns.barplot(x=\"country\", y=\"final_status\", data=country_results);"
   ]
  },
  {
   "cell_type": "markdown",
   "metadata": {},
   "source": [
    "US has the highest funded projects."
   ]
  },
  {
   "cell_type": "markdown",
   "metadata": {},
   "source": [
    "##### Currency Wise Funded Projects Trend:\n",
    "I wanted to analyze currency wise funded projects."
   ]
  },
  {
   "cell_type": "code",
   "execution_count": 13,
   "metadata": {
    "collapsed": false
   },
   "outputs": [
    {
     "data": {
      "text/html": [
       "<div>\n",
       "<table border=\"1\" class=\"dataframe\">\n",
       "  <thead>\n",
       "    <tr style=\"text-align: right;\">\n",
       "      <th></th>\n",
       "      <th>currency</th>\n",
       "      <th>final_status</th>\n",
       "    </tr>\n",
       "  </thead>\n",
       "  <tbody>\n",
       "    <tr>\n",
       "      <th>0</th>\n",
       "      <td>AUD</td>\n",
       "      <td>343</td>\n",
       "    </tr>\n",
       "    <tr>\n",
       "      <th>1</th>\n",
       "      <td>CAD</td>\n",
       "      <td>837</td>\n",
       "    </tr>\n",
       "    <tr>\n",
       "      <th>2</th>\n",
       "      <td>DKK</td>\n",
       "      <td>44</td>\n",
       "    </tr>\n",
       "    <tr>\n",
       "      <th>3</th>\n",
       "      <td>EUR</td>\n",
       "      <td>111</td>\n",
       "    </tr>\n",
       "    <tr>\n",
       "      <th>4</th>\n",
       "      <td>GBP</td>\n",
       "      <td>2510</td>\n",
       "    </tr>\n",
       "    <tr>\n",
       "      <th>5</th>\n",
       "      <td>NOK</td>\n",
       "      <td>18</td>\n",
       "    </tr>\n",
       "    <tr>\n",
       "      <th>6</th>\n",
       "      <td>NZD</td>\n",
       "      <td>80</td>\n",
       "    </tr>\n",
       "    <tr>\n",
       "      <th>7</th>\n",
       "      <td>SEK</td>\n",
       "      <td>45</td>\n",
       "    </tr>\n",
       "    <tr>\n",
       "      <th>8</th>\n",
       "      <td>USD</td>\n",
       "      <td>30573</td>\n",
       "    </tr>\n",
       "  </tbody>\n",
       "</table>\n",
       "</div>"
      ],
      "text/plain": [
       "  currency  final_status\n",
       "0      AUD           343\n",
       "1      CAD           837\n",
       "2      DKK            44\n",
       "3      EUR           111\n",
       "4      GBP          2510\n",
       "5      NOK            18\n",
       "6      NZD            80\n",
       "7      SEK            45\n",
       "8      USD         30573"
      ]
     },
     "execution_count": 13,
     "metadata": {},
     "output_type": "execute_result"
    }
   ],
   "source": [
    "currency_results = df_processed.groupby(['currency'], as_index=False)['final_status'].sum()\n",
    "currency_results"
   ]
  },
  {
   "cell_type": "code",
   "execution_count": 14,
   "metadata": {
    "collapsed": false
   },
   "outputs": [
    {
     "data": {
      "image/png": "[encoded data removed]",
      "text/plain": [
       "<matplotlib.figure.Figure at 0x1206964d0>"
      ]
     },
     "metadata": {},
     "output_type": "display_data"
    }
   ],
   "source": [
    "sns.barplot(x=\"currency\", y=\"final_status\", data=currency_results);"
   ]
  },
  {
   "cell_type": "markdown",
   "metadata": {},
   "source": [
    "Maximum projects are funded in USD."
   ]
  },
  {
   "cell_type": "code",
   "execution_count": 16,
   "metadata": {
    "collapsed": false
   },
   "outputs": [
    {
     "data": {
      "image/png": "[encoded data removed]",
      "text/plain": [
       "<matplotlib.figure.Figure at 0x12051f450>"
      ]
     },
     "metadata": {},
     "output_type": "display_data"
    },
    {
     "data": {
      "image/png": "[encoded data removed]",
      "text/plain": [
       "<matplotlib.figure.Figure at 0x120689d10>"
      ]
     },
     "metadata": {},
     "output_type": "display_data"
    }
   ],
   "source": [
    "## Correlation between backers_count & goal\n",
    "\n",
    "import pylab as pl\n",
    "\n",
    "def plot_rm_lstat_ptration_medv_prices(data):\n",
    "    feature_names = ['goal','backers_count']\n",
    "    target_variable = df_processed['final_status']\n",
    "    for i in feature_names:\n",
    "        feature_data = data[i]\n",
    "        pl.figure()\n",
    "        pl.title(\"Kickstarters Data: \" + i + \" vs Final_Status\")\n",
    "        pl.scatter(feature_data, target_variable, alpha=0.3)\n",
    "        pl.xlabel(i)\n",
    "        pl.ylabel('Final_Status ($1000)')\n",
    "        pl.show()\n",
    "\n",
    "plot_rm_lstat_ptration_medv_prices(df_processed)   "
   ]
  },
  {
   "cell_type": "markdown",
   "metadata": {},
   "source": [
    "##### Statistics around goal amount\n",
    "\n"
   ]
  },
  {
   "cell_type": "code",
   "execution_count": 17,
   "metadata": {
    "collapsed": false
   },
   "outputs": [
    {
     "name": "stdout",
     "output_type": "stream",
     "text": [
      "Statistics for project goals:\n",
      "\n",
      "Minimum goal amount: $0.01\n",
      "Maximum goal amount: $100,000,000.00\n",
      "Mean goal amount: $36,726.23\n",
      "Median goal amount $5,000.00\n",
      "Standard deviation of goal amount: $971,898.21\n"
     ]
    }
   ],
   "source": [
    "Goal = df_processed['goal']\n",
    "\n",
    "# Minimum price of the data\n",
    "minimum_goal_amt = np.min(Goal)\n",
    "\n",
    "# Maximum price of the data\n",
    "maximum_goal_amt = np.max(Goal)\n",
    "\n",
    "# Mean price of the data\n",
    "mean_goal_amt = np.mean(Goal)\n",
    "\n",
    "# Median price of the data\n",
    "median_goal_amt = np.median(Goal)\n",
    "\n",
    "# Standard deviation of prices of the data\n",
    "std_goal_amt = np.std(Goal)\n",
    "\n",
    "# Show the calculated statistics\n",
    "print \"Statistics for project goals:\\n\"\n",
    "print \"Minimum goal amount: ${:,.2f}\".format(minimum_goal_amt)\n",
    "print \"Maximum goal amount: ${:,.2f}\".format(maximum_goal_amt)\n",
    "print \"Mean goal amount: ${:,.2f}\".format(mean_goal_amt)\n",
    "print \"Median goal amount ${:,.2f}\".format(median_goal_amt)\n",
    "print \"Standard deviation of goal amount: ${:,.2f}\".format(std_goal_amt)"
   ]
  },
  {
   "cell_type": "code",
   "execution_count": 188,
   "metadata": {
    "collapsed": false
   },
   "outputs": [
    {
     "data": {
      "text/plain": [
       "(array([  1.08098000e+05,   9.00000000e+00,   8.00000000e+00,\n",
       "          1.00000000e+00,   4.00000000e+00,   0.00000000e+00,\n",
       "          1.00000000e+00,   1.00000000e+00,   0.00000000e+00,\n",
       "          7.00000000e+00]),\n",
       " array([  1.00000000e-02,   1.00000000e+07,   2.00000000e+07,\n",
       "          3.00000000e+07,   4.00000000e+07,   5.00000000e+07,\n",
       "          6.00000000e+07,   7.00000000e+07,   8.00000000e+07,\n",
       "          9.00000000e+07,   1.00000000e+08]),\n",
       " <a list of 10 Patch objects>)"
      ]
     },
     "execution_count": 188,
     "metadata": {},
     "output_type": "execute_result"
    },
    {
     "data": {
      "image/png": "[encoded data removed]",
      "text/plain": [
       "<matplotlib.figure.Figure at 0x12bb7c350>"
      ]
     },
     "metadata": {},
     "output_type": "display_data"
    }
   ],
   "source": [
    "plt.hist(df_processed['goal'], bins=10)"
   ]
  },
  {
   "cell_type": "markdown",
   "metadata": {},
   "source": [
    "#### Statistics around backers_count"
   ]
  },
  {
   "cell_type": "code",
   "execution_count": 18,
   "metadata": {
    "collapsed": false
   },
   "outputs": [
    {
     "name": "stdout",
     "output_type": "stream",
     "text": [
      "Statistics for backers_count:\n",
      "\n",
      "Minimum backers_count: 0.00\n",
      "Maximum backers_count: 219,382.00\n",
      "Mean backers_count: 123.52\n",
      "Median backers_count 17.00\n",
      "Standard deviation of backers_count: 1,176.74\n"
     ]
    }
   ],
   "source": [
    "backers_count = df_processed['backers_count']\n",
    "\n",
    "# Minimum price of the data\n",
    "minimum_backers_count = np.min(backers_count)\n",
    "\n",
    "# Maximum price of the data\n",
    "maximum_backers_count = np.max(backers_count)\n",
    "\n",
    "# Mean price of the data\n",
    "mean_backers_count = np.mean(backers_count)\n",
    "\n",
    "# Median price of the data\n",
    "median_backers_count = np.median(backers_count)\n",
    "\n",
    "# Standard deviation of prices of the data\n",
    "std_backers_count = np.std(backers_count)\n",
    "\n",
    "# Show the calculated statistics\n",
    "print \"Statistics for backers_count:\\n\"\n",
    "print \"Minimum backers_count: {:,.2f}\".format(minimum_backers_count)\n",
    "print \"Maximum backers_count: {:,.2f}\".format(maximum_backers_count)\n",
    "print \"Mean backers_count: {:,.2f}\".format(mean_backers_count)\n",
    "print \"Median backers_count {:,.2f}\".format(median_backers_count)\n",
    "print \"Standard deviation of backers_count: {:,.2f}\".format(std_backers_count)"
   ]
  },
  {
   "cell_type": "code",
   "execution_count": 19,
   "metadata": {
    "collapsed": false
   },
   "outputs": [
    {
     "data": {
      "text/plain": [
       "(array([  1.08103000e+05,   1.40000000e+01,   4.00000000e+00,\n",
       "          6.00000000e+00,   1.00000000e+00,   0.00000000e+00,\n",
       "          0.00000000e+00,   0.00000000e+00,   0.00000000e+00,\n",
       "          1.00000000e+00]),\n",
       " array([      0. ,   21938.2,   43876.4,   65814.6,   87752.8,  109691. ,\n",
       "         131629.2,  153567.4,  175505.6,  197443.8,  219382. ]),\n",
       " <a list of 10 Patch objects>)"
      ]
     },
     "execution_count": 19,
     "metadata": {},
     "output_type": "execute_result"
    },
    {
     "data": {
      "image/png": "[encoded data removed]",
      "text/plain": [
       "<matplotlib.figure.Figure at 0x11fa0eb90>"
      ]
     },
     "metadata": {},
     "output_type": "display_data"
    }
   ],
   "source": [
    "# backers_count_results = df_processed.groupby(['backers_count'], as_index=False)['final_status'].sum()\n",
    "# backers_count_results\n",
    "\n",
    "plt.hist(df_processed['backers_count'], bins=10)"
   ]
  },
  {
   "cell_type": "markdown",
   "metadata": {},
   "source": [
    "## Feature Engineering"
   ]
  },
  {
   "cell_type": "markdown",
   "metadata": {},
   "source": [
    "As part of extracting features out of given dataset, I tried implementing 3 things:\n",
    "\n",
    "1. Finding no of days before the deadline from the date of launch.\n",
    "2. Finding word length of desc field. \n",
    "3. Creating list of important features\n",
    "3. Convert categorical data into numerical\n",
    "4. Normalizing the features"
   ]
  },
  {
   "cell_type": "code",
   "execution_count": 20,
   "metadata": {
    "collapsed": true
   },
   "outputs": [],
   "source": [
    "## no of days before the deadline from the date of launch\n",
    "\n",
    "df_processed['deadline']=df_processed['deadline'].apply(lambda x: datetime.datetime.strptime(x,'%Y-%m-%d %H:%M:%S'))\n",
    "df_processed['launched_at']=df_processed['launched_at'].apply(lambda x: datetime.datetime.strptime(x,'%Y-%m-%d %H:%M:%S'))\n",
    "df_processed['days_diff_launch_deadline'] = df_processed['deadline'] - df_processed['launched_at']\n",
    "df_processed['days_diff_launch_deadline'] = df_processed['days_diff_launch_deadline'].apply(lambda x: x.days )\n"
   ]
  },
  {
   "cell_type": "code",
   "execution_count": 21,
   "metadata": {
    "collapsed": true
   },
   "outputs": [],
   "source": [
    "## word length of desc \n",
    "df_processed['length_of_desc'] = full_data['desc'].apply(lambda x: len(str(x)))"
   ]
  },
  {
   "cell_type": "code",
   "execution_count": 22,
   "metadata": {
    "collapsed": false
   },
   "outputs": [
    {
     "data": {
      "text/html": [
       "<div>\n",
       "<table border=\"1\" class=\"dataframe\">\n",
       "  <thead>\n",
       "    <tr style=\"text-align: right;\">\n",
       "      <th></th>\n",
       "      <th>project_id</th>\n",
       "      <th>name</th>\n",
       "      <th>desc</th>\n",
       "      <th>goal</th>\n",
       "      <th>keywords</th>\n",
       "      <th>disable_communication</th>\n",
       "      <th>country</th>\n",
       "      <th>currency</th>\n",
       "      <th>deadline</th>\n",
       "      <th>state_changed_at</th>\n",
       "      <th>created_at</th>\n",
       "      <th>launched_at</th>\n",
       "      <th>backers_count</th>\n",
       "      <th>final_status</th>\n",
       "      <th>created_day_of_week</th>\n",
       "      <th>days_diff_launch_deadline</th>\n",
       "      <th>length_of_desc</th>\n",
       "    </tr>\n",
       "  </thead>\n",
       "  <tbody>\n",
       "    <tr>\n",
       "      <th>0</th>\n",
       "      <td>kkst1451568084</td>\n",
       "      <td>drawing for dollars</td>\n",
       "      <td>I like drawing pictures. and then i color them...</td>\n",
       "      <td>20.0</td>\n",
       "      <td>drawing-for-dollars</td>\n",
       "      <td>False</td>\n",
       "      <td>US</td>\n",
       "      <td>USD</td>\n",
       "      <td>2009-05-02 23:59:59</td>\n",
       "      <td>2009-05-03 00:00:17</td>\n",
       "      <td>2009-04-24 12:15:07</td>\n",
       "      <td>2009-04-24 12:52:03</td>\n",
       "      <td>3</td>\n",
       "      <td>1</td>\n",
       "      <td>Friday</td>\n",
       "      <td>8</td>\n",
       "      <td>134</td>\n",
       "    </tr>\n",
       "    <tr>\n",
       "      <th>1</th>\n",
       "      <td>kkst1474482071</td>\n",
       "      <td>Sponsor Dereck Blackburn (Lostwars) Artist in ...</td>\n",
       "      <td>I, Dereck Blackburn will be taking upon an inc...</td>\n",
       "      <td>300.0</td>\n",
       "      <td>sponsor-dereck-blackburn-lostwars-artist-in-re...</td>\n",
       "      <td>False</td>\n",
       "      <td>US</td>\n",
       "      <td>USD</td>\n",
       "      <td>2009-05-15 16:10:00</td>\n",
       "      <td>2009-05-15 17:00:18</td>\n",
       "      <td>2009-04-28 16:10:24</td>\n",
       "      <td>2009-04-28 20:26:32</td>\n",
       "      <td>2</td>\n",
       "      <td>0</td>\n",
       "      <td>Tuesday</td>\n",
       "      <td>16</td>\n",
       "      <td>137</td>\n",
       "    </tr>\n",
       "    <tr>\n",
       "      <th>2</th>\n",
       "      <td>kkst183622197</td>\n",
       "      <td>Mr. Squiggles</td>\n",
       "      <td>So I saw darkpony's successfully funded drawin...</td>\n",
       "      <td>30.0</td>\n",
       "      <td>mr-squiggles</td>\n",
       "      <td>False</td>\n",
       "      <td>US</td>\n",
       "      <td>USD</td>\n",
       "      <td>2009-05-22 14:26:00</td>\n",
       "      <td>2009-05-22 14:30:18</td>\n",
       "      <td>2009-05-12 14:26:53</td>\n",
       "      <td>2009-05-12 14:39:58</td>\n",
       "      <td>0</td>\n",
       "      <td>0</td>\n",
       "      <td>Tuesday</td>\n",
       "      <td>9</td>\n",
       "      <td>385</td>\n",
       "    </tr>\n",
       "    <tr>\n",
       "      <th>3</th>\n",
       "      <td>kkst597742710</td>\n",
       "      <td>Help me write my second novel.</td>\n",
       "      <td>Do your part to help out starving artists and ...</td>\n",
       "      <td>500.0</td>\n",
       "      <td>help-me-write-my-second-novel</td>\n",
       "      <td>False</td>\n",
       "      <td>US</td>\n",
       "      <td>USD</td>\n",
       "      <td>2009-05-28 17:09:00</td>\n",
       "      <td>2009-05-28 17:15:21</td>\n",
       "      <td>2009-04-28 17:09:55</td>\n",
       "      <td>2009-04-28 17:58:50</td>\n",
       "      <td>18</td>\n",
       "      <td>1</td>\n",
       "      <td>Tuesday</td>\n",
       "      <td>29</td>\n",
       "      <td>131</td>\n",
       "    </tr>\n",
       "    <tr>\n",
       "      <th>4</th>\n",
       "      <td>kkst1913131122</td>\n",
       "      <td>Support casting my sculpture in bronze</td>\n",
       "      <td>I'm nearing completion on a sculpture, current...</td>\n",
       "      <td>2000.0</td>\n",
       "      <td>support-casting-my-sculpture-in-bronze</td>\n",
       "      <td>False</td>\n",
       "      <td>US</td>\n",
       "      <td>USD</td>\n",
       "      <td>2009-05-31 04:38:00</td>\n",
       "      <td>2009-05-31 04:45:17</td>\n",
       "      <td>2009-05-01 04:38:34</td>\n",
       "      <td>2009-05-01 05:22:21</td>\n",
       "      <td>1</td>\n",
       "      <td>0</td>\n",
       "      <td>Friday</td>\n",
       "      <td>29</td>\n",
       "      <td>384</td>\n",
       "    </tr>\n",
       "  </tbody>\n",
       "</table>\n",
       "</div>"
      ],
      "text/plain": [
       "       project_id                                               name  \\\n",
       "0  kkst1451568084                                drawing for dollars   \n",
       "1  kkst1474482071  Sponsor Dereck Blackburn (Lostwars) Artist in ...   \n",
       "2   kkst183622197                                      Mr. Squiggles   \n",
       "3   kkst597742710                     Help me write my second novel.   \n",
       "4  kkst1913131122             Support casting my sculpture in bronze   \n",
       "\n",
       "                                                desc    goal  \\\n",
       "0  I like drawing pictures. and then i color them...    20.0   \n",
       "1  I, Dereck Blackburn will be taking upon an inc...   300.0   \n",
       "2  So I saw darkpony's successfully funded drawin...    30.0   \n",
       "3  Do your part to help out starving artists and ...   500.0   \n",
       "4  I'm nearing completion on a sculpture, current...  2000.0   \n",
       "\n",
       "                                            keywords disable_communication  \\\n",
       "0                                drawing-for-dollars                 False   \n",
       "1  sponsor-dereck-blackburn-lostwars-artist-in-re...                 False   \n",
       "2                                       mr-squiggles                 False   \n",
       "3                      help-me-write-my-second-novel                 False   \n",
       "4             support-casting-my-sculpture-in-bronze                 False   \n",
       "\n",
       "  country currency            deadline     state_changed_at  \\\n",
       "0      US      USD 2009-05-02 23:59:59  2009-05-03 00:00:17   \n",
       "1      US      USD 2009-05-15 16:10:00  2009-05-15 17:00:18   \n",
       "2      US      USD 2009-05-22 14:26:00  2009-05-22 14:30:18   \n",
       "3      US      USD 2009-05-28 17:09:00  2009-05-28 17:15:21   \n",
       "4      US      USD 2009-05-31 04:38:00  2009-05-31 04:45:17   \n",
       "\n",
       "            created_at         launched_at  backers_count  final_status  \\\n",
       "0  2009-04-24 12:15:07 2009-04-24 12:52:03              3             1   \n",
       "1  2009-04-28 16:10:24 2009-04-28 20:26:32              2             0   \n",
       "2  2009-05-12 14:26:53 2009-05-12 14:39:58              0             0   \n",
       "3  2009-04-28 17:09:55 2009-04-28 17:58:50             18             1   \n",
       "4  2009-05-01 04:38:34 2009-05-01 05:22:21              1             0   \n",
       "\n",
       "  created_day_of_week  days_diff_launch_deadline  length_of_desc  \n",
       "0              Friday                          8             134  \n",
       "1             Tuesday                         16             137  \n",
       "2             Tuesday                          9             385  \n",
       "3             Tuesday                         29             131  \n",
       "4              Friday                         29             384  "
      ]
     },
     "execution_count": 22,
     "metadata": {},
     "output_type": "execute_result"
    }
   ],
   "source": [
    "df_processed.head()"
   ]
  },
  {
   "cell_type": "code",
   "execution_count": 23,
   "metadata": {
    "collapsed": false
   },
   "outputs": [
    {
     "data": {
      "text/plain": [
       "['goal',\n",
       " 'country',\n",
       " 'currency',\n",
       " 'backers_count',\n",
       " 'created_day_of_week',\n",
       " 'days_diff_launch_deadline',\n",
       " 'length_of_desc']"
      ]
     },
     "execution_count": 23,
     "metadata": {},
     "output_type": "execute_result"
    }
   ],
   "source": [
    "features_set = list(df_processed.columns[3:13])\n",
    "features_set.remove('keywords')\n",
    "features_set.remove('disable_communication')\n",
    "features_set.remove('state_changed_at')\n",
    "features_set.remove('deadline')\n",
    "features_set.remove('launched_at')\n",
    "features_set.remove('created_at')\n",
    "features_set.append('created_day_of_week')\n",
    "features_set.append('days_diff_launch_deadline')\n",
    "features_set.append('length_of_desc')\n",
    "features_set"
   ]
  },
  {
   "cell_type": "code",
   "execution_count": 73,
   "metadata": {
    "collapsed": false
   },
   "outputs": [],
   "source": [
    "text_to_digit_vals = {}\n",
    "def convert_to_int(val):\n",
    "            return text_to_digit_vals[val]\n",
    "    \n",
    "def convert_non_numerical_data_2_numerical(df_processed1):\n",
    "    columns = df_processed1.columns.values\n",
    "    print columns\n",
    "    for column in columns:\n",
    "        if df_processed1[column].dtype != np.int64 and df_processed1[column].dtype != np.float64:\n",
    "            counter = 0\n",
    "            for unique in set(df_processed1[column].values.tolist()):\n",
    "                if unique in text_to_digit_vals:\n",
    "                    text_to_digit_vals[unique] = counter\n",
    "                elif unique not in text_to_digit_vals:\n",
    "                    text_to_digit_vals[unique] = counter\n",
    "                    counter = counter+1\n",
    "            \n",
    "            df_processed1[column] = map(convert_to_int, df_processed1[column])\n",
    "            \n",
    "    return df_processed1\n"
   ]
  },
  {
   "cell_type": "code",
   "execution_count": 74,
   "metadata": {
    "collapsed": false
   },
   "outputs": [
    {
     "name": "stdout",
     "output_type": "stream",
     "text": [
      "['goal' 'country' 'currency' 'backers_count' 'created_day_of_week'\n",
      " 'days_diff_launch_deadline' 'length_of_desc']\n"
     ]
    },
    {
     "name": "stderr",
     "output_type": "stream",
     "text": [
      "/Users/nkumari/anaconda/lib/python2.7/site-packages/ipykernel/__main__.py:18: SettingWithCopyWarning: \n",
      "A value is trying to be set on a copy of a slice from a DataFrame.\n",
      "Try using .loc[row_indexer,col_indexer] = value instead\n",
      "\n",
      "See the caveats in the documentation: http://pandas.pydata.org/pandas-docs/stable/indexing.html#indexing-view-versus-copy\n"
     ]
    }
   ],
   "source": [
    "x = convert_non_numerical_data_2_numerical(df_processed[features_set])"
   ]
  },
  {
   "cell_type": "code",
   "execution_count": 75,
   "metadata": {
    "collapsed": false
   },
   "outputs": [
    {
     "data": {
      "text/html": [
       "<div>\n",
       "<table border=\"1\" class=\"dataframe\">\n",
       "  <thead>\n",
       "    <tr style=\"text-align: right;\">\n",
       "      <th></th>\n",
       "      <th>goal</th>\n",
       "      <th>country</th>\n",
       "      <th>currency</th>\n",
       "      <th>backers_count</th>\n",
       "      <th>created_day_of_week</th>\n",
       "      <th>days_diff_launch_deadline</th>\n",
       "      <th>length_of_desc</th>\n",
       "    </tr>\n",
       "  </thead>\n",
       "  <tbody>\n",
       "    <tr>\n",
       "      <th>0</th>\n",
       "      <td>20.0</td>\n",
       "      <td>5</td>\n",
       "      <td>0</td>\n",
       "      <td>3</td>\n",
       "      <td>2</td>\n",
       "      <td>8</td>\n",
       "      <td>134</td>\n",
       "    </tr>\n",
       "    <tr>\n",
       "      <th>1</th>\n",
       "      <td>300.0</td>\n",
       "      <td>5</td>\n",
       "      <td>0</td>\n",
       "      <td>2</td>\n",
       "      <td>1</td>\n",
       "      <td>16</td>\n",
       "      <td>137</td>\n",
       "    </tr>\n",
       "    <tr>\n",
       "      <th>2</th>\n",
       "      <td>30.0</td>\n",
       "      <td>5</td>\n",
       "      <td>0</td>\n",
       "      <td>0</td>\n",
       "      <td>1</td>\n",
       "      <td>9</td>\n",
       "      <td>385</td>\n",
       "    </tr>\n",
       "    <tr>\n",
       "      <th>3</th>\n",
       "      <td>500.0</td>\n",
       "      <td>5</td>\n",
       "      <td>0</td>\n",
       "      <td>18</td>\n",
       "      <td>1</td>\n",
       "      <td>29</td>\n",
       "      <td>131</td>\n",
       "    </tr>\n",
       "    <tr>\n",
       "      <th>4</th>\n",
       "      <td>2000.0</td>\n",
       "      <td>5</td>\n",
       "      <td>0</td>\n",
       "      <td>1</td>\n",
       "      <td>2</td>\n",
       "      <td>29</td>\n",
       "      <td>384</td>\n",
       "    </tr>\n",
       "  </tbody>\n",
       "</table>\n",
       "</div>"
      ],
      "text/plain": [
       "     goal  country  currency  backers_count  created_day_of_week  \\\n",
       "0    20.0        5         0              3                    2   \n",
       "1   300.0        5         0              2                    1   \n",
       "2    30.0        5         0              0                    1   \n",
       "3   500.0        5         0             18                    1   \n",
       "4  2000.0        5         0              1                    2   \n",
       "\n",
       "   days_diff_launch_deadline  length_of_desc  \n",
       "0                          8             134  \n",
       "1                         16             137  \n",
       "2                          9             385  \n",
       "3                         29             131  \n",
       "4                         29             384  "
      ]
     },
     "execution_count": 75,
     "metadata": {},
     "output_type": "execute_result"
    }
   ],
   "source": [
    "x.head()"
   ]
  },
  {
   "cell_type": "code",
   "execution_count": 76,
   "metadata": {
    "collapsed": false
   },
   "outputs": [
    {
     "data": {
      "text/html": [
       "<div>\n",
       "<table border=\"1\" class=\"dataframe\">\n",
       "  <thead>\n",
       "    <tr style=\"text-align: right;\">\n",
       "      <th></th>\n",
       "      <th>0</th>\n",
       "      <th>1</th>\n",
       "      <th>2</th>\n",
       "      <th>3</th>\n",
       "      <th>4</th>\n",
       "      <th>5</th>\n",
       "      <th>6</th>\n",
       "    </tr>\n",
       "  </thead>\n",
       "  <tbody>\n",
       "    <tr>\n",
       "      <th>0</th>\n",
       "      <td>1.999000e-07</td>\n",
       "      <td>0.5</td>\n",
       "      <td>0.0</td>\n",
       "      <td>0.000014</td>\n",
       "      <td>0.333333</td>\n",
       "      <td>0.076923</td>\n",
       "      <td>0.104972</td>\n",
       "    </tr>\n",
       "    <tr>\n",
       "      <th>1</th>\n",
       "      <td>2.999900e-06</td>\n",
       "      <td>0.5</td>\n",
       "      <td>0.0</td>\n",
       "      <td>0.000009</td>\n",
       "      <td>0.166667</td>\n",
       "      <td>0.164835</td>\n",
       "      <td>0.107340</td>\n",
       "    </tr>\n",
       "    <tr>\n",
       "      <th>2</th>\n",
       "      <td>2.999000e-07</td>\n",
       "      <td>0.5</td>\n",
       "      <td>0.0</td>\n",
       "      <td>0.000000</td>\n",
       "      <td>0.166667</td>\n",
       "      <td>0.087912</td>\n",
       "      <td>0.303078</td>\n",
       "    </tr>\n",
       "    <tr>\n",
       "      <th>3</th>\n",
       "      <td>4.999900e-06</td>\n",
       "      <td>0.5</td>\n",
       "      <td>0.0</td>\n",
       "      <td>0.000082</td>\n",
       "      <td>0.166667</td>\n",
       "      <td>0.307692</td>\n",
       "      <td>0.102605</td>\n",
       "    </tr>\n",
       "    <tr>\n",
       "      <th>4</th>\n",
       "      <td>1.999990e-05</td>\n",
       "      <td>0.5</td>\n",
       "      <td>0.0</td>\n",
       "      <td>0.000005</td>\n",
       "      <td>0.333333</td>\n",
       "      <td>0.307692</td>\n",
       "      <td>0.302289</td>\n",
       "    </tr>\n",
       "  </tbody>\n",
       "</table>\n",
       "</div>"
      ],
      "text/plain": [
       "              0    1    2         3         4         5         6\n",
       "0  1.999000e-07  0.5  0.0  0.000014  0.333333  0.076923  0.104972\n",
       "1  2.999900e-06  0.5  0.0  0.000009  0.166667  0.164835  0.107340\n",
       "2  2.999000e-07  0.5  0.0  0.000000  0.166667  0.087912  0.303078\n",
       "3  4.999900e-06  0.5  0.0  0.000082  0.166667  0.307692  0.102605\n",
       "4  1.999990e-05  0.5  0.0  0.000005  0.333333  0.307692  0.302289"
      ]
     },
     "execution_count": 76,
     "metadata": {},
     "output_type": "execute_result"
    }
   ],
   "source": [
    "from sklearn import preprocessing\n",
    "df_x = pd.DataFrame(x)\n",
    "df_x\n",
    "\n",
    "min_max_scaler = preprocessing.MinMaxScaler()\n",
    "np_scaled = min_max_scaler.fit_transform(df_x)\n",
    "df_normalized = pd.DataFrame(np_scaled)\n",
    "df_normalized.head()"
   ]
  },
  {
   "cell_type": "markdown",
   "metadata": {
    "collapsed": false
   },
   "source": [
    "## Predictive Algorithm"
   ]
  },
  {
   "cell_type": "markdown",
   "metadata": {
    "collapsed": false
   },
   "source": [
    "Applying a supervised learning algorithm to predict whether or not a project would be funded. I tried 2 algorithms here:\n",
    "1. Random Forest\n",
    "2. Decision Tree"
   ]
  },
  {
   "cell_type": "code",
   "execution_count": 37,
   "metadata": {
    "collapsed": false
   },
   "outputs": [],
   "source": [
    "x= df_normalized\n",
    "y= df_processed['final_status']"
   ]
  },
  {
   "cell_type": "markdown",
   "metadata": {
    "collapsed": false
   },
   "source": [
    "Implementation: Shuffle and Split Data\n",
    "\n",
    "Spliting the data into training and testing subsets. Typically, the data is also shuffled into a random order when creating the training and testing subsets to remove any bias in the ordering of the dataset.\n",
    "\n",
    "Spliting  the data into 75% training and 25% testing.\n",
    "\n",
    "Set the random_state for train_test_split to a value of your choice. This ensures results are consistent.\n",
    "Assign the train and testing splits to X_train, X_test, y_train, and y_test."
   ]
  },
  {
   "cell_type": "code",
   "execution_count": 38,
   "metadata": {
    "collapsed": true
   },
   "outputs": [],
   "source": [
    "X_train,X_test,y_train,y_test = train_test_split(x,y,test_size= .25,random_state=42)"
   ]
  },
  {
   "cell_type": "markdown",
   "metadata": {
    "collapsed": false
   },
   "source": [
    "### Random Forest Classification"
   ]
  },
  {
   "cell_type": "code",
   "execution_count": 77,
   "metadata": {
    "collapsed": false
   },
   "outputs": [],
   "source": [
    "from sklearn.ensemble import RandomForestClassifier\n",
    "clf = RandomForestClassifier(max_depth=2, random_state=0)\n",
    "clf.fit(X_train,y_train)\n",
    "y_pred=clf.predict(X_test)"
   ]
  },
  {
   "cell_type": "markdown",
   "metadata": {
    "collapsed": false
   },
   "source": [
    "#### Accuracy, Confusion Metrics & Feature Importance"
   ]
  },
  {
   "cell_type": "code",
   "execution_count": 78,
   "metadata": {
    "collapsed": false
   },
   "outputs": [
    {
     "name": "stdout",
     "output_type": "stream",
     "text": [
      "0.770317759775\n"
     ]
    },
    {
     "data": {
      "text/plain": [
       "array([[17259,  1106],\n",
       "       [ 5103,  3565]])"
      ]
     },
     "execution_count": 78,
     "metadata": {},
     "output_type": "execute_result"
    }
   ],
   "source": [
    "acc = accuracy_score(y_test,y_pred)\n",
    "print acc\n",
    "cm = confusion_matrix(y_test,y_pred, labels=[0,1])\n",
    "cm"
   ]
  },
  {
   "cell_type": "code",
   "execution_count": 181,
   "metadata": {
    "collapsed": false
   },
   "outputs": [
    {
     "name": "stdout",
     "output_type": "stream",
     "text": [
      "Feature ranking:\n",
      "1. feature backers_count (0.666863)\n",
      "2. feature goal (0.192621)\n",
      "3. feature days_diff_launch_deadline (0.119009)\n",
      "4. feature currency (0.018811)\n",
      "5. feature country (0.002164)\n",
      "6. feature length_of_desc (0.000532)\n",
      "7. feature created_day_of_week (0.000000)\n"
     ]
    },
    {
     "data": {
      "image/png": "[encoded data removed]",
      "text/plain": [
       "<matplotlib.figure.Figure at 0x12c8b0450>"
      ]
     },
     "metadata": {},
     "output_type": "display_data"
    }
   ],
   "source": [
    "importances = clf.feature_importances_\n",
    "std = np.std([tree.feature_importances_ for tree in clf.estimators_],\n",
    "             axis=0)\n",
    "indices = np.argsort(importances)[::-1]\n",
    "\n",
    "\n",
    "# Print the feature ranking\n",
    "print(\"Feature ranking:\")\n",
    "\n",
    "for f in range(X_train.shape[1]):\n",
    "    print(\"%d. feature %s (%f)\" % (f + 1, features_set[indices[f]], importances[indices[f]]))\n",
    "\n",
    "# Plot the feature importances of the forest\n",
    "plt.figure()\n",
    "plt.title(\"Feature importances\")\n",
    "plt.bar(range(X_train.shape[1]), importances[indices],\n",
    "       color=\"r\", yerr=std[indices], align=\"center\")\n",
    "plt.xticks(range(X_train.shape[1]), indices)\n",
    "plt.xlim([-1, X_train.shape[1]])\n",
    "plt.show()"
   ]
  },
  {
   "cell_type": "markdown",
   "metadata": {
    "collapsed": false
   },
   "source": [
    "### Decision Tree Classifier\n"
   ]
  },
  {
   "cell_type": "code",
   "execution_count": 189,
   "metadata": {
    "collapsed": true
   },
   "outputs": [],
   "source": [
    "from sklearn.tree import DecisionTreeClassifier,export_graphviz\n",
    "\n",
    "clfDT = DecisionTreeClassifier()\n",
    "clfDT = clfDT.fit(X_train,y_train)\n",
    "y_pred=clfDT.predict(X_test)"
   ]
  },
  {
   "cell_type": "markdown",
   "metadata": {
    "collapsed": true
   },
   "source": [
    "#### Accuracy, Confusion Metrics & Feature Importance\n"
   ]
  },
  {
   "cell_type": "code",
   "execution_count": 183,
   "metadata": {
    "collapsed": false
   },
   "outputs": [
    {
     "name": "stdout",
     "output_type": "stream",
     "text": [
      "0.825176635963\n"
     ]
    },
    {
     "data": {
      "text/plain": [
       "array([[16021,  2344],\n",
       "       [ 2382,  6286]])"
      ]
     },
     "execution_count": 183,
     "metadata": {},
     "output_type": "execute_result"
    }
   ],
   "source": [
    "acc = accuracy_score(y_test,y_pred)\n",
    "print acc\n",
    "cm = confusion_matrix(y_test,y_pred, labels=[0,1])\n",
    "cm"
   ]
  },
  {
   "cell_type": "code",
   "execution_count": 184,
   "metadata": {
    "collapsed": false
   },
   "outputs": [
    {
     "name": "stdout",
     "output_type": "stream",
     "text": [
      "Feature ranking:\n",
      "1. feature backers_count (0.521746)\n",
      "2. feature goal (0.210421)\n",
      "3. feature days_diff_launch_deadline (0.077133)\n",
      "4. feature currency (0.006645)\n",
      "5. feature country (0.008789)\n",
      "6. feature length_of_desc (0.121878)\n",
      "7. feature created_day_of_week (0.053389)\n"
     ]
    }
   ],
   "source": [
    "importances = clfDT.feature_importances_\n",
    "#importances\n",
    "\n",
    "# Print the feature ranking\n",
    "print(\"Feature ranking:\")\n",
    "\n",
    "for f in range(X_train.shape[1]):\n",
    "    print(\"%d. feature %s (%f)\" % (f + 1, features_set[indices[f]], importances[indices[f]]))\n",
    "        \n"
   ]
  },
  {
   "cell_type": "code",
   "execution_count": 203,
   "metadata": {
    "collapsed": false
   },
   "outputs": [],
   "source": [
    "# dot_data = export_graphviz(clfDT, out_file=None) \n",
    "# graph = graphviz.Source(dot_data) \n",
    "# graph.render(x) \n",
    "\n",
    "# dot_data = export_graphviz(clfDT, out_file=None, \n",
    "#                          feature_names=features_set,  \n",
    "#                          class_names=['final_status'],  \n",
    "#                          filled=True, rounded=True,  \n",
    "#                          special_characters=True)\n",
    "\n",
    "# graph = graphviz.Source(dot_data)  \n",
    "# graph"
   ]
  },
  {
   "cell_type": "markdown",
   "metadata": {
    "collapsed": true
   },
   "source": [
    "#### Comparing the 2 algorithms Decision Tree performed better with 82.5% as accuracy!"
   ]
  },
  {
   "cell_type": "markdown",
   "metadata": {
    "collapsed": false
   },
   "source": [
    "## Text Analytics"
   ]
  },
  {
   "cell_type": "markdown",
   "metadata": {
    "collapsed": true
   },
   "source": [
    "The dataset contains 2 fields which contains text data. I tried to run clustering on titles."
   ]
  },
  {
   "cell_type": "markdown",
   "metadata": {},
   "source": [
    "### Title Clustering"
   ]
  },
  {
   "cell_type": "code",
   "execution_count": 63,
   "metadata": {
    "collapsed": true
   },
   "outputs": [],
   "source": [
    "titles= full_data['name']"
   ]
  },
  {
   "cell_type": "code",
   "execution_count": 64,
   "metadata": {
    "collapsed": false
   },
   "outputs": [
    {
     "data": {
      "text/plain": [
       "0                                  drawing for dollars\n",
       "1    Sponsor Dereck Blackburn (Lostwars) Artist in ...\n",
       "2                                        Mr. Squiggles\n",
       "3                       Help me write my second novel.\n",
       "4               Support casting my sculpture in bronze\n",
       "Name: name, dtype: object"
      ]
     },
     "execution_count": 64,
     "metadata": {},
     "output_type": "execute_result"
    }
   ],
   "source": [
    "titles.head()"
   ]
  },
  {
   "cell_type": "markdown",
   "metadata": {},
   "source": [
    "#### Running some cleaning ups."
   ]
  },
  {
   "cell_type": "code",
   "execution_count": 185,
   "metadata": {
    "collapsed": false
   },
   "outputs": [],
   "source": [
    "import re\n",
    "import nltk\n",
    "\n",
    "all_stopwords = set(nltk.corpus.stopwords.words('english'))\n",
    "punc = set(['\"\"','\\'\\'','..', '``','...', '--' ])\n",
    "\n",
    "titles = [str(title).lower() for title in titles]\n",
    "titles = [str(title).replace('\"','') for title in titles]\n",
    "titles = [title for title in titles if title not in all_stopwords]\n",
    "titles = [title for title in titles if title not in punc]\n"
   ]
  },
  {
   "cell_type": "markdown",
   "metadata": {
    "collapsed": false
   },
   "source": [
    "###### Using kmeans clustering"
   ]
  },
  {
   "cell_type": "code",
   "execution_count": 66,
   "metadata": {
    "collapsed": false
   },
   "outputs": [],
   "source": [
    "\n",
    "from sklearn.feature_extraction.text import TfidfVectorizer\n",
    "from sklearn.cluster import KMeans\n",
    "from sklearn.metrics import adjusted_rand_score\n",
    "from sklearn.metrics.pairwise import cosine_similarity"
   ]
  },
  {
   "cell_type": "code",
   "execution_count": 67,
   "metadata": {
    "collapsed": true
   },
   "outputs": [],
   "source": [
    "vectorizer = TfidfVectorizer(stop_words='english')\n",
    "tfidf_matrix = vectorizer.fit_transform(titles)"
   ]
  },
  {
   "cell_type": "code",
   "execution_count": 68,
   "metadata": {
    "collapsed": false
   },
   "outputs": [
    {
     "data": {
      "text/plain": [
       "KMeans(copy_x=True, init='k-means++', max_iter=200, n_clusters=10, n_init=1,\n",
       "    n_jobs=1, precompute_distances='auto', random_state=None, tol=0.0001,\n",
       "    verbose=0)"
      ]
     },
     "execution_count": 68,
     "metadata": {},
     "output_type": "execute_result"
    }
   ],
   "source": [
    "## defaulting it to generate 10 clusters with 200 iterations\n",
    "true_k = 10\n",
    "model = KMeans(n_clusters=true_k, init='k-means++', max_iter=200, n_init=1)\n",
    "model.fit(tfidf_matrix)"
   ]
  },
  {
   "cell_type": "code",
   "execution_count": 69,
   "metadata": {
    "collapsed": false
   },
   "outputs": [
    {
     "name": "stdout",
     "output_type": "stream",
     "text": [
      "Top terms per cluster:\n",
      "Cluster 0:  new  ep  life  love  tour  novel  story  cd  magazine  app  record  movie  documentary  time  man  home  season  make  cards  city\n",
      "Cluster 1:  debut  album  ep  cd  record  length  recording  release  solo  help  records  band  music  lp  video  project  studio  novel  making  tour\n",
      "Cluster 2:  game  music  art  series  video  web  card  new  animated  festival  board  adventure  life  mobile  tv  comedy  indie  original  season  ios\n",
      "Cluster 3:  album  project  new  length  recording  studio  music  release  cd  art  second  solo  band  record  tour  love  making  ep  records  make\n",
      "Cluster 4:  help  fund  record  make  album  new  ep  release  finish  needs  tour  music  support  cd  create  bring  length  build  need  debut\n",
      "Cluster 5:  book  children  art  series  project  poetry  comic  coloring  photo  canceled  picture  life  new  photography  publishing  coffee  table  publish  story  illustrated\n",
      "Cluster 6:  canceled  project  art  cards  playing  new  app  music  album  magazine  life  game  3d  com  series  mobile  love  card  little  man\n",
      "Cluster 7:  film  short  feature  documentary  horror  project  independent  animated  thesis  festival  student  comedy  sci  fi  length  thriller  production  love  new  fan\n",
      "Cluster 8:  world  music  canceled  premiere  new  end  art  war  cup  tour  largest  change  game  project  help  book  real  album  save  travel\n",
      "Cluster 9:  food  truck  canceled  soul  healthy  mobile  fast  organic  local  cart  farm  fresh  gourmet  bbq  trailer  free  street  app  market  festival\n"
     ]
    }
   ],
   "source": [
    "## Printing Top Terms per Clusters\n",
    "\n",
    "print(\"Top terms per cluster:\")\n",
    "order_centroids = model.cluster_centers_.argsort()[:, ::-1]\n",
    "terms = vectorizer.get_feature_names()\n",
    "for i in range(true_k):\n",
    "    print \"Cluster %d:\" % i,\n",
    "    for ind in order_centroids[i, :20]:\n",
    "        print ' %s' % terms[ind],\n",
    "    print"
   ]
  },
  {
   "cell_type": "markdown",
   "metadata": {},
   "source": [
    "### Title Word Distribution"
   ]
  },
  {
   "cell_type": "code",
   "execution_count": 75,
   "metadata": {
    "collapsed": false
   },
   "outputs": [],
   "source": [
    "from wordcloud import WordCloud, STOPWORDS"
   ]
  },
  {
   "cell_type": "code",
   "execution_count": 93,
   "metadata": {
    "collapsed": false
   },
   "outputs": [
    {
     "name": "stdout",
     "output_type": "stream",
     "text": [
      "<wordcloud.wordcloud.WordCloud object at 0x123bb6810>\n"
     ]
    }
   ],
   "source": [
    "## remove words likes canceled\n",
    "stopwords = set(STOPWORDS)\n",
    "\n",
    "wordcloud = WordCloud(\n",
    "                          stopwords=stopwords,\n",
    "                          max_words=1000,\n",
    "                          max_font_size=60, \n",
    "                          random_state=42\n",
    "                         ).generate(str(titles))\n",
    "\n",
    "print(wordcloud)"
   ]
  },
  {
   "cell_type": "code",
   "execution_count": 94,
   "metadata": {
    "collapsed": false
   },
   "outputs": [
    {
     "data": {
      "image/png": "[encoded data removed]",
      "text/plain": [
       "<matplotlib.figure.Figure at 0x11a6d8910>"
      ]
     },
     "metadata": {},
     "output_type": "display_data"
    }
   ],
   "source": [
    "fig = plt.figure(1)\n",
    "plt.imshow(wordcloud)\n",
    "plt.axis('off')\n",
    "plt.show()"
   ]
  },
  {
   "cell_type": "markdown",
   "metadata": {},
   "source": [
    "This dataset doesnot contain categories originally. However, looking at the this word cloud some categories can tagged example = album, film, video, music, artist, story, light, kid etc. Also using clustering analysis, we can group projects based on its similarity in the title or description.\n"
   ]
  },
  {
   "cell_type": "markdown",
   "metadata": {},
   "source": [
    "## Title Similarity"
   ]
  },
  {
   "cell_type": "markdown",
   "metadata": {},
   "source": [
    "We can use cosine similarity to find similarity between 2 titles. Also building a recommendation engine around it is possible."
   ]
  },
  {
   "cell_type": "code",
   "execution_count": 100,
   "metadata": {
    "collapsed": false
   },
   "outputs": [
    {
     "data": {
      "text/plain": [
       "array([[ 0.,  0.,  0., ...,  0.,  0.,  1.]])"
      ]
     },
     "execution_count": 100,
     "metadata": {},
     "output_type": "execute_result"
    }
   ],
   "source": [
    "\n",
    "\n",
    "cosine = cosine_similarity(tfidf_matrix[len(titles)-1], tfidf_matrix)\n",
    "cosine"
   ]
  },
  {
   "cell_type": "markdown",
   "metadata": {
    "collapsed": false
   },
   "source": [
    "## Conclusion"
   ]
  },
  {
   "cell_type": "markdown",
   "metadata": {
    "collapsed": true
   },
   "source": [
    "Using predictive modeling techniques, we can predict the success of a project getting funded. However, as part of future extension to this project. I would like try following:\n",
    "1. Find labelled categories for each projects in order to analyze how categories impact funding.\n",
    "2. Try more algorithms, tuning the parameters to improve the accuracy > 82%.\n",
    "3. Incorporate text based features for the model."
   ]
  },
  {
   "cell_type": "code",
   "execution_count": null,
   "metadata": {
    "collapsed": true
   },
   "outputs": [],
   "source": []
  }
 ],
 "metadata": {
  "kernelspec": {
   "display_name": "Python 2",
   "language": "python",
   "name": "python2"
  },
  "language_info": {
   "codemirror_mode": {
    "name": "ipython",
    "version": 2
   },
   "file_extension": ".py",
   "mimetype": "text/x-python",
   "name": "python",
   "nbconvert_exporter": "python",
   "pygments_lexer": "ipython2",
   "version": "2.7.12"
  }
 },
 "nbformat": 4,
 "nbformat_minor": 0
}
